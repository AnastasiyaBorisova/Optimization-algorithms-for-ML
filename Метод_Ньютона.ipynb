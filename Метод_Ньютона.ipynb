{
  "nbformat": 4,
  "nbformat_minor": 0,
  "metadata": {
    "colab": {
      "provenance": []
    },
    "kernelspec": {
      "name": "python3",
      "display_name": "Python 3"
    },
    "language_info": {
      "name": "python"
    }
  },
  "cells": [
    {
      "cell_type": "code",
      "source": [
        "from prettytable import PrettyTable\n",
        "import numpy as np\n",
        "from sympy import *\n",
        "from numpy import linalg\n",
        "\n",
        "\n",
        "e = 0.01 #Точность\n",
        "xi = [1, 1] #Начальные координаты\n",
        "k = 0 #Счётчик итераций\n",
        "#f = 'x**2 -x*y+3*y**2-x'\n",
        "#f = '2.8*y**2 + 1.9*x + 2.7*x**2+1.6 - 1.9*y'\n",
        "f = 'x**2+4*x*y+17*y**2+5*y'\n",
        "\n",
        "def fun(x, y):  #Подсчёт значения функции\n",
        "    return round(eval(f), 12)\n",
        "\n",
        "def step(x, y):  #Подсчет шага\n",
        "    mg = np.array([[eval(str(diff(diff(f, 'x'), 'x'))), eval(str(diff(diff(f, 'x'), 'y')))], [eval(str(diff(diff(f, 'y'), 'x'))), eval(str(diff(diff(f, 'y'), 'y')))]])\n",
        "    step = np.array([grad(x, y)[0], grad(x, y)[1]]).dot(np.array([[grad(x, y)[0]], [grad(x, y)[1]]]))[0] / np.array([grad(x, y)[0], grad(x, y)[1]]).dot(mg.dot(np.array([[grad(x, y)[0]], [grad(x, y)[1]]])))[0]\n",
        "    return step\n",
        "\n",
        "def grad(x, y):  #Подсчёт градиента\n",
        "    return [eval(str(diff(f, 'x'))), eval(str(diff(f, 'y')))]\n",
        "\n",
        "def gcoord():  #Подсчёт новых координат(Градиент)\n",
        "    return [xi[0] - step(xi[0], xi[1]) * grad(xi[0], xi[1])[0], xi[1] - step(xi[0], xi[1]) * grad(xi[0], xi[1])[1]]\n",
        "\n",
        "def coord(x, y, mg):  # Вывод новых координат(Ньютон)\n",
        "    p = linalg.inv(mg).dot(np.array([[grad(x, y)[0]], [grad(x, y)[1]]]))\n",
        "    return [x - p[0][0], y - p[1][0]]\n",
        "\n",
        "tab = [[xi[0], xi[1], fun(xi[0], xi[1])]] #Таблица со значениями координат\n",
        "\n",
        "while(round((sqrt(grad(xi[0], xi[1])[0] ** 2 + grad(xi[0], xi[1])[1] ** 2)), 12)>e):\n",
        "    mg = np.array([[eval(str(diff(diff(f, 'x'), 'x'))), eval(str(diff(diff(f, 'x'), 'y')))],\n",
        "                   [eval(str(diff(diff(f, 'y'), 'x'))), eval(str(diff(diff(f, 'y'), 'y')))]])\n",
        "    if(linalg.det(mg) > 0):\n",
        "        xi[0], xi[1] = round(float(coord(xi[0], xi[1], mg)[0]), 15), round(float(coord(xi[0], xi[1], mg)[1]), 15)\n",
        "    else:\n",
        "        xi[0], xi[1] = round(float(gcoord()[0]), 12), round(float(gcoord()[1]), 12)\n",
        "    k += 1\n",
        "    tab.append([xi[0], xi[1], fun(xi[0], xi[1])])\n",
        "\n",
        "table = PrettyTable(['x', 'y', 'Значение функции(f)'])\n",
        "for i in tab:\n",
        "    table.add_row([i[0], i[1], i[2]])\n",
        "f = fun(xi[0], xi[1])\n",
        "\n",
        "print('\\nТаблица значений координат и функций:\\n', table)\n",
        "print('Всего', k, 'итерации,', 'минимум достигнут в точке', xi, 'и равен', f)\n"
      ],
      "metadata": {
        "colab": {
          "base_uri": "https://localhost:8080/"
        },
        "id": "htVjTOcK7kSK",
        "outputId": "10a038c2-31ef-4668-9af4-64c74088a69e"
      },
      "execution_count": 17,
      "outputs": [
        {
          "output_type": "stream",
          "name": "stdout",
          "text": [
            "\n",
            "Таблица значений координат и функций:\n",
            " +-------------------+--------------------+---------------------+\n",
            "|         x         |         y          | Значение функции(f) |\n",
            "+-------------------+--------------------+---------------------+\n",
            "|         1         |         1          |          27         |\n",
            "| 0.384615384615385 | -0.192307692307693 |   -0.480769230769   |\n",
            "+-------------------+--------------------+---------------------+\n",
            "Всего 1 итерации, минимум достигнут в точке [0.384615384615385, -0.192307692307693] и равен -0.480769230769\n"
          ]
        }
      ]
    }
  ]
}