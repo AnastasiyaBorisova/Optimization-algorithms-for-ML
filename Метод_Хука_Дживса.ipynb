{
  "nbformat": 4,
  "nbformat_minor": 0,
  "metadata": {
    "colab": {
      "provenance": []
    },
    "kernelspec": {
      "name": "python3",
      "display_name": "Python 3"
    },
    "language_info": {
      "name": "python"
    }
  },
  "cells": [
    {
      "cell_type": "code",
      "source": [
        "import numpy as np\n",
        "from prettytable import PrettyTable\n",
        "\n",
        "\n",
        "e = 0.01 #Точность\n",
        "n = 2 #Размерность задачи\n",
        "m = 2 #Длина ребра симплекса\n",
        "count = 1 #Счетчик итераций\n",
        "h = 0.2 #Шаг по координатным направлениям\n",
        "d = 2 #Коэффициент уменьшения шага\n",
        "xi = [1, 1]\n",
        "\n",
        "def fun(x, y): #Подсчёт значения функции\n",
        "    #f = 2.8*y**2 + 1.9*x + 2.7*x**2+1.6 - 1.9*y\n",
        "    #f = x**2 -x*y+3*y**2-x\n",
        "    f = x ** 2 + 4 * x * y + 17 * y ** 2 + 5 * y\n",
        "    return f\n",
        "\n",
        "def steph(xi, f, h): #Шаг h\n",
        "    if fun(xi[0]+h, xi[1]) < f:\n",
        "        xi[0] = round(xi[0] + h, 15)\n",
        "        f = fun(xi[0], xi[1])\n",
        "    elif fun(xi[0]-h, xi[1]) < f:\n",
        "        xi[0] = round(xi[0] - h, 15)\n",
        "        f = fun(xi[0], xi[1])\n",
        "    if fun(xi[0], xi[1] + h) < f:\n",
        "        xi[1] = round(xi[1] + h, 15)\n",
        "        f = fun(xi[0], xi[1])\n",
        "    elif fun(xi[0], xi[1] - h) < f:\n",
        "        xi[1] = round(xi[1] - h, 15)\n",
        "        f = fun(xi[0], xi[1])\n",
        "    return xi\n",
        "\n",
        "f = fun(xi[0], xi[1])\n",
        "tab = [[xi[0], xi[1], fun(xi[0], xi[1])]]\n",
        "\n",
        "\n",
        "while(True):\n",
        "    p = np.array(xi)\n",
        "    xi = steph(xi, f, h)\n",
        "    f = fun(xi[0], xi[1])\n",
        "    if xi[0] == p[0] and xi[1] == p[1]:\n",
        "        h = h/d\n",
        "        count += 1\n",
        "        p = np.array(xi)\n",
        "        xi = steph(xi, f, h)\n",
        "        f = fun(xi[0], xi[1])\n",
        "    elif h > e:\n",
        "        tab.append([xi[0], xi[1], fun(xi[0], xi[1])])\n",
        "    xp = np.array(xi + m * (xi - p))\n",
        "    if fun(xp[0], xp[1]) < f:\n",
        "        f = fun(xp[0], xp[1])\n",
        "        xi = xp\n",
        "        tab.append([xi[0], xi[1], fun(xi[0], xi[1])])\n",
        "    if h <= e:\n",
        "        tab.append([xi[0], xi[1], fun(xi[0], xi[1])])\n",
        "        break\n",
        "    count += 1\n",
        "table = PrettyTable(['x', 'y', 'Значение функции(f)'])\n",
        "for i in tab:\n",
        "    table.add_row([i[0], i[1], i[2]])\n",
        "print('\\nТаблица значений координат и функций:\\n', table)\n",
        "print('Всего', count, 'итераций', 'минимум достигнут в точке', xi, 'и равен', f)\n"
      ],
      "metadata": {
        "colab": {
          "base_uri": "https://localhost:8080/"
        },
        "id": "htVjTOcK7kSK",
        "outputId": "74dadb15-3be6-4316-ed20-3201f6287696"
      },
      "execution_count": 13,
      "outputs": [
        {
          "output_type": "stream",
          "name": "stdout",
          "text": [
            "\n",
            "Таблица значений координат и функций:\n",
            " +----------------------+----------------------+----------------------+\n",
            "|          x           |          y           | Значение функции(f)  |\n",
            "+----------------------+----------------------+----------------------+\n",
            "|          1           |          1           |          27          |\n",
            "|         0.8          |         0.8          |  18.080000000000005  |\n",
            "| 0.40000000000000013  | 0.40000000000000013  |  5.520000000000003   |\n",
            "|         0.2          |         0.2          |  1.8800000000000003  |\n",
            "| -0.20000000000000023 | -0.20000000000000023 | -0.11999999999999922 |\n",
            "|         -0.0         | -0.20000000000000023 | -0.3199999999999996  |\n",
            "| 0.40000000000000047  | -0.20000000000000023 |        -0.48         |\n",
            "| 0.40000000000000047  |       -0.19375       | -0.4805859374999999  |\n",
            "+----------------------+----------------------+----------------------+\n",
            "Всего 13 итераций минимум достигнут в точке [ 0.4     -0.19375] и равен -0.4805859374999999\n"
          ]
        }
      ]
    }
  ]
}