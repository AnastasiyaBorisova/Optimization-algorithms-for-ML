{
  "nbformat": 4,
  "nbformat_minor": 0,
  "metadata": {
    "colab": {
      "provenance": []
    },
    "kernelspec": {
      "name": "python3",
      "display_name": "Python 3"
    },
    "language_info": {
      "name": "python"
    }
  },
  "cells": [
    {
      "cell_type": "code",
      "source": [
        "from prettytable import PrettyTable\n",
        "import numpy as np\n",
        "from sympy import *\n",
        "\n",
        "\n",
        "e = 0.01 #Точность\n",
        "xi = [1, 1] #Начальные координаты\n",
        "k = 0 #Счётчик итераций\n",
        "#f = 'x**2 -x*y+3*y**2-x'\n",
        "#f = '2.8*y**2 + 1.9*x + 2.7*x**2+1.6 - 1.9*y'\n",
        "f = 'x**2+4*x*y+17*y**2+5*y'\n",
        "\n",
        "def fun(x, y):  #Подсчёт значения функции\n",
        "    return round(eval(f), 15)\n",
        "\n",
        "def step(x, y):  #Подсчет шага\n",
        "    mg = np.array([[eval(str(diff(diff(f, 'x'), 'x'))), eval(str(diff(diff(f, 'x'), 'y')))], [eval(str(diff(diff(f, 'y'), 'x'))), eval(str(diff(diff(f, 'y'), 'y')))]])\n",
        "    step = np.array([grad(x, y)[0], grad(x, y)[1]]).dot(np.array([[grad(x, y)[0]], [grad(x, y)[1]]]))[0] / np.array([grad(x, y)[0], grad(x, y)[1]]).dot(mg.dot(np.array([[grad(x, y)[0]], [grad(x, y)[1]]])))[0]\n",
        "    return step\n",
        "\n",
        "def grad(x, y):  #Подсчёт градиента\n",
        "    return [eval(str(diff(f, 'x'))), eval(str(diff(f, 'y')))]\n",
        "\n",
        "def coord():  #Подсчёт новых координат\n",
        "    return [xi[0] - step(xi[0], xi[1]) * grad(xi[0], xi[1])[0], xi[1] - step(xi[0], xi[1]) * grad(xi[0], xi[1])[1]]\n",
        "\n",
        "tab = [[xi[0], xi[1], fun(xi[0], xi[1])]] #Таблица со значениями координат\n",
        "\n",
        "while (True):\n",
        "    xi[0], xi[1] = round(float(coord()[0]), 15), round(float(coord()[1]), 15) #Новые координаты\n",
        "    tab.append([xi[0], xi[1], fun(xi[0], xi[1])])  #Добавляем в таблицу\n",
        "    if sqrt(grad(xi[0], xi[1])[0] ** 2 + grad(xi[0], xi[1])[1] ** 2) < e: #Проверяем условие окончания\n",
        "        break\n",
        "    k += 1\n",
        "\n",
        "table = PrettyTable(['x', 'y', 'Значение функции(f)'])\n",
        "for i in tab:\n",
        "    table.add_row([i[0], i[1], i[2]])\n",
        "f = fun(xi[0], xi[1])\n",
        "\n",
        "print('\\nТаблица значений координат и функций:\\n', table)\n",
        "print('Всего', k, 'итерации,', 'минимум достигнут в точке', xi, 'и равен', f)\n"
      ],
      "metadata": {
        "colab": {
          "base_uri": "https://localhost:8080/"
        },
        "id": "htVjTOcK7kSK",
        "outputId": "64a6b921-82d1-417a-9225-e7870ed8429e"
      },
      "execution_count": 16,
      "outputs": [
        {
          "output_type": "stream",
          "name": "stdout",
          "text": [
            "\n",
            "Таблица значений координат и функций:\n",
            " +-------------------+--------------------+---------------------+\n",
            "|         x         |         y          | Значение функции(f) |\n",
            "+-------------------+--------------------+---------------------+\n",
            "|         1         |         1          |          27         |\n",
            "| 0.826005353681425 | -0.246961631949786 |  -0.331659025876127 |\n",
            "| 0.387954451484926 | -0.185838250247953 |  -0.479960161233493 |\n",
            "| 0.387010359376551 | -0.192604243691309 |  -0.480764840771148 |\n",
            "+-------------------+--------------------+---------------------+\n",
            "Всего 2 итерации, минимум достигнут в точке [0.387010359376551, -0.192604243691309] и равен -0.480764840771148\n"
          ]
        }
      ]
    }
  ]
}